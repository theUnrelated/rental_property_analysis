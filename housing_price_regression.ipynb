{
 "cells": [
  {
   "cell_type": "code",
   "execution_count": 98,
   "metadata": {},
   "outputs": [],
   "source": [
    "import pandas as pd\n",
    "import numpy as np\n",
    "import matplotlib.pyplot as plt\n",
    "import seaborn as sns\n",
    "\n",
    "from sklearn.tree import DecisionTreeClassifier\n",
    "import statsmodels.api as sm\n",
    "from sklearn.model_selection import train_test_split\n",
    "from sklearn.metrics import mean_squared_error\n",
    "from sklearn import preprocessing"
   ]
  },
  {
   "cell_type": "code",
   "execution_count": 89,
   "metadata": {},
   "outputs": [],
   "source": [
    "feature_list = ['floor_area_sqm','Distance_mrt(km)', 'Distance_sch(km)', 'Distance_mall(km)', 'Distance_cbd(km)','Distance_uni(km)',\n",
    "       'income_below_sgd_1000',\n",
    "       'income_no_working_person', 'income_sgd_10000_to_10999',\n",
    "       'income_sgd_1000_to_1999', 'income_sgd_11000_to_11999',\n",
    "       'income_sgd_12000_to_12999', 'income_sgd_13000_to_13999',\n",
    "       'income_sgd_14000_to_14999', 'income_sgd_15000_to_17499',\n",
    "       'income_sgd_17500_to_19999', 'income_sgd_20000_over',\n",
    "       'income_sgd_2000_to_2999', 'income_sgd_3000_to_3999',\n",
    "       'income_sgd_4000_to_4999', 'income_sgd_5000_to_5999',\n",
    "       'income_sgd_6000_to_6999', 'income_sgd_7000_to_7999',\n",
    "       'income_sgd_8000_to_8999', 'income_sgd_9000_to_9999']"
   ]
  },
  {
   "cell_type": "code",
   "execution_count": 43,
   "metadata": {},
   "outputs": [
    {
     "data": {
      "text/html": [
       "<div>\n",
       "<style scoped>\n",
       "    .dataframe tbody tr th:only-of-type {\n",
       "        vertical-align: middle;\n",
       "    }\n",
       "\n",
       "    .dataframe tbody tr th {\n",
       "        vertical-align: top;\n",
       "    }\n",
       "\n",
       "    .dataframe thead th {\n",
       "        text-align: right;\n",
       "    }\n",
       "</style>\n",
       "<table border=\"1\" class=\"dataframe\">\n",
       "  <thead>\n",
       "    <tr style=\"text-align: right;\">\n",
       "      <th></th>\n",
       "      <th>block</th>\n",
       "      <th>flat_model</th>\n",
       "      <th>flat_type</th>\n",
       "      <th>floor_area_sqm</th>\n",
       "      <th>lease_commence_date</th>\n",
       "      <th>month</th>\n",
       "      <th>remaining_lease</th>\n",
       "      <th>resale_price</th>\n",
       "      <th>storey_range</th>\n",
       "      <th>street_name</th>\n",
       "      <th>...</th>\n",
       "      <th>Nearest mrt</th>\n",
       "      <th>Distance_mrt(km)</th>\n",
       "      <th>Nearest sch</th>\n",
       "      <th>Distance_sch(km)</th>\n",
       "      <th>Nearest mall</th>\n",
       "      <th>Distance_mall(km)</th>\n",
       "      <th>Nearest cbd</th>\n",
       "      <th>Distance_cbd(km)</th>\n",
       "      <th>Nearest uni</th>\n",
       "      <th>Distance_uni(km)</th>\n",
       "    </tr>\n",
       "  </thead>\n",
       "  <tbody>\n",
       "    <tr>\n",
       "      <th>0</th>\n",
       "      <td>216</td>\n",
       "      <td>New Generation</td>\n",
       "      <td>3 ROOM</td>\n",
       "      <td>73.0</td>\n",
       "      <td>1976</td>\n",
       "      <td>2000-01</td>\n",
       "      <td>NaN</td>\n",
       "      <td>159000.0</td>\n",
       "      <td>07 TO 09</td>\n",
       "      <td>ANG MO KIO AVE 1</td>\n",
       "      <td>...</td>\n",
       "      <td>Ang Mo Kio</td>\n",
       "      <td>0.461981</td>\n",
       "      <td>Ang Mo Kio Primary School</td>\n",
       "      <td>0.623605</td>\n",
       "      <td>Broadway Plaza</td>\n",
       "      <td>0.316728</td>\n",
       "      <td>NaN</td>\n",
       "      <td>9.000903</td>\n",
       "      <td>Nanyang Polytechnic</td>\n",
       "      <td>1.280607</td>\n",
       "    </tr>\n",
       "    <tr>\n",
       "      <th>1</th>\n",
       "      <td>215</td>\n",
       "      <td>New Generation</td>\n",
       "      <td>3 ROOM</td>\n",
       "      <td>73.0</td>\n",
       "      <td>1976</td>\n",
       "      <td>2000-01</td>\n",
       "      <td>NaN</td>\n",
       "      <td>167000.0</td>\n",
       "      <td>07 TO 09</td>\n",
       "      <td>ANG MO KIO AVE 1</td>\n",
       "      <td>...</td>\n",
       "      <td>Ang Mo Kio</td>\n",
       "      <td>0.461981</td>\n",
       "      <td>Ang Mo Kio Primary School</td>\n",
       "      <td>0.623605</td>\n",
       "      <td>Broadway Plaza</td>\n",
       "      <td>0.316728</td>\n",
       "      <td>NaN</td>\n",
       "      <td>9.000903</td>\n",
       "      <td>Nanyang Polytechnic</td>\n",
       "      <td>1.280607</td>\n",
       "    </tr>\n",
       "    <tr>\n",
       "      <th>2</th>\n",
       "      <td>218</td>\n",
       "      <td>New Generation</td>\n",
       "      <td>3 ROOM</td>\n",
       "      <td>67.0</td>\n",
       "      <td>1976</td>\n",
       "      <td>2000-01</td>\n",
       "      <td>NaN</td>\n",
       "      <td>163000.0</td>\n",
       "      <td>07 TO 09</td>\n",
       "      <td>ANG MO KIO AVE 1</td>\n",
       "      <td>...</td>\n",
       "      <td>Ang Mo Kio</td>\n",
       "      <td>0.461981</td>\n",
       "      <td>Ang Mo Kio Primary School</td>\n",
       "      <td>0.623605</td>\n",
       "      <td>Broadway Plaza</td>\n",
       "      <td>0.316728</td>\n",
       "      <td>NaN</td>\n",
       "      <td>9.000903</td>\n",
       "      <td>Nanyang Polytechnic</td>\n",
       "      <td>1.280607</td>\n",
       "    </tr>\n",
       "    <tr>\n",
       "      <th>3</th>\n",
       "      <td>304</td>\n",
       "      <td>New Generation</td>\n",
       "      <td>4 ROOM</td>\n",
       "      <td>97.0</td>\n",
       "      <td>1977</td>\n",
       "      <td>2000-01</td>\n",
       "      <td>NaN</td>\n",
       "      <td>260000.0</td>\n",
       "      <td>04 TO 06</td>\n",
       "      <td>ANG MO KIO AVE 1</td>\n",
       "      <td>...</td>\n",
       "      <td>Ang Mo Kio</td>\n",
       "      <td>0.461981</td>\n",
       "      <td>Ang Mo Kio Primary School</td>\n",
       "      <td>0.623605</td>\n",
       "      <td>Broadway Plaza</td>\n",
       "      <td>0.316728</td>\n",
       "      <td>NaN</td>\n",
       "      <td>9.000903</td>\n",
       "      <td>Nanyang Polytechnic</td>\n",
       "      <td>1.280607</td>\n",
       "    </tr>\n",
       "    <tr>\n",
       "      <th>4</th>\n",
       "      <td>221</td>\n",
       "      <td>Improved</td>\n",
       "      <td>5 ROOM</td>\n",
       "      <td>127.0</td>\n",
       "      <td>1993</td>\n",
       "      <td>2000-01</td>\n",
       "      <td>NaN</td>\n",
       "      <td>408000.0</td>\n",
       "      <td>10 TO 12</td>\n",
       "      <td>ANG MO KIO AVE 1</td>\n",
       "      <td>...</td>\n",
       "      <td>Ang Mo Kio</td>\n",
       "      <td>0.461981</td>\n",
       "      <td>Ang Mo Kio Primary School</td>\n",
       "      <td>0.623605</td>\n",
       "      <td>Broadway Plaza</td>\n",
       "      <td>0.316728</td>\n",
       "      <td>NaN</td>\n",
       "      <td>9.000903</td>\n",
       "      <td>Nanyang Polytechnic</td>\n",
       "      <td>1.280607</td>\n",
       "    </tr>\n",
       "  </tbody>\n",
       "</table>\n",
       "<p>5 rows × 43 columns</p>\n",
       "</div>"
      ],
      "text/plain": [
       "  block      flat_model flat_type  floor_area_sqm  lease_commence_date  \\\n",
       "0   216  New Generation    3 ROOM            73.0                 1976   \n",
       "1   215  New Generation    3 ROOM            73.0                 1976   \n",
       "2   218  New Generation    3 ROOM            67.0                 1976   \n",
       "3   304  New Generation    4 ROOM            97.0                 1977   \n",
       "4   221        Improved    5 ROOM           127.0                 1993   \n",
       "\n",
       "     month  remaining_lease  resale_price storey_range       street_name  \\\n",
       "0  2000-01              NaN      159000.0     07 TO 09  ANG MO KIO AVE 1   \n",
       "1  2000-01              NaN      167000.0     07 TO 09  ANG MO KIO AVE 1   \n",
       "2  2000-01              NaN      163000.0     07 TO 09  ANG MO KIO AVE 1   \n",
       "3  2000-01              NaN      260000.0     04 TO 06  ANG MO KIO AVE 1   \n",
       "4  2000-01              NaN      408000.0     10 TO 12  ANG MO KIO AVE 1   \n",
       "\n",
       "         ...        Nearest mrt Distance_mrt(km)                Nearest sch  \\\n",
       "0        ...         Ang Mo Kio         0.461981  Ang Mo Kio Primary School   \n",
       "1        ...         Ang Mo Kio         0.461981  Ang Mo Kio Primary School   \n",
       "2        ...         Ang Mo Kio         0.461981  Ang Mo Kio Primary School   \n",
       "3        ...         Ang Mo Kio         0.461981  Ang Mo Kio Primary School   \n",
       "4        ...         Ang Mo Kio         0.461981  Ang Mo Kio Primary School   \n",
       "\n",
       "   Distance_sch(km)    Nearest mall  Distance_mall(km)  Nearest cbd  \\\n",
       "0          0.623605  Broadway Plaza           0.316728          NaN   \n",
       "1          0.623605  Broadway Plaza           0.316728          NaN   \n",
       "2          0.623605  Broadway Plaza           0.316728          NaN   \n",
       "3          0.623605  Broadway Plaza           0.316728          NaN   \n",
       "4          0.623605  Broadway Plaza           0.316728          NaN   \n",
       "\n",
       "   Distance_cbd(km)          Nearest uni  Distance_uni(km)  \n",
       "0          9.000903  Nanyang Polytechnic          1.280607  \n",
       "1          9.000903  Nanyang Polytechnic          1.280607  \n",
       "2          9.000903  Nanyang Polytechnic          1.280607  \n",
       "3          9.000903  Nanyang Polytechnic          1.280607  \n",
       "4          9.000903  Nanyang Polytechnic          1.280607  \n",
       "\n",
       "[5 rows x 43 columns]"
      ]
     },
     "execution_count": 43,
     "metadata": {},
     "output_type": "execute_result"
    }
   ],
   "source": [
    "df = pd.read_csv('mergedHDB2.csv')"
   ]
  },
  {
   "cell_type": "code",
   "execution_count": 157,
   "metadata": {},
   "outputs": [],
   "source": [
    "df3 = df[['floor_area_sqm','Distance_mrt(km)', 'Distance_sch(km)', 'Distance_mall(km)', 'Distance_cbd(km)','Distance_uni(km)',\n",
    "       'income_below_sgd_1000',\n",
    "       'income_no_working_person', 'income_sgd_10000_to_10999',\n",
    "       'income_sgd_1000_to_1999', 'income_sgd_11000_to_11999',\n",
    "       'income_sgd_12000_to_12999', 'income_sgd_13000_to_13999',\n",
    "       'income_sgd_14000_to_14999', 'income_sgd_15000_to_17499',\n",
    "       'income_sgd_17500_to_19999', 'income_sgd_20000_over',\n",
    "       'income_sgd_2000_to_2999', 'income_sgd_3000_to_3999',\n",
    "       'income_sgd_4000_to_4999', 'income_sgd_5000_to_5999',\n",
    "       'income_sgd_6000_to_6999', 'income_sgd_7000_to_7999',\n",
    "       'income_sgd_8000_to_8999', 'income_sgd_9000_to_9999','resale_price']]"
   ]
  },
  {
   "cell_type": "code",
   "execution_count": 158,
   "metadata": {},
   "outputs": [],
   "source": [
    "df2 = df[['floor_area_sqm','Distance_mrt(km)', 'Distance_sch(km)', 'Distance_mall(km)', 'Distance_cbd(km)','Distance_uni(km)',\n",
    "        'resale_price']]\n",
    "feature_list =['floor_area_sqm','Distance_mrt(km)', 'Distance_sch(km)', 'Distance_mall(km)', 'Distance_cbd(km)','Distance_uni(km)']"
   ]
  },
  {
   "cell_type": "code",
   "execution_count": 163,
   "metadata": {},
   "outputs": [],
   "source": [
    "df2 = df2.dropna()"
   ]
  },
  {
   "cell_type": "code",
   "execution_count": 92,
   "metadata": {},
   "outputs": [],
   "source": [
    "df3 = df3.dropna()\n",
    "# Create x, where x the 'scores' column's values as floats\n",
    "x = df2.values.astype(float)\n",
    "\n",
    "# Create a minimum and maximum processor object\n",
    "min_max_scaler = preprocessing.MinMaxScaler()\n",
    "\n",
    "# Create an object to transform the data to fit minmax processor\n",
    "x_scaled = min_max_scaler.fit_transform(x)\n",
    "\n",
    "# Run the normalizer on the dataframe\n",
    "df_normalized = pd.DataFrame(x_scaled)\n",
    "df_normalized.columns = df2.columns\n"
   ]
  },
  {
   "cell_type": "code",
   "execution_count": 164,
   "metadata": {},
   "outputs": [],
   "source": [
    "x = df_normalized[feature_list]\n",
    "y = df_normalized.resale_price\n",
    "X = df2[feature_list]\n",
    "Y = df2.resale_price\n",
    "test_idx = df_normalized.loc[df.month == \"2018-12\"].index\n",
    "x_train1 = X.loc[~X.index.isin(test_idx)]\n",
    "x_test1 = X.loc[X.index.isin(test_idx)]\n",
    "y_train1 = Y.loc[~Y.index.isin(test_idx)]\n",
    "y_test1 = Y.loc[Y.index.isin(test_idx)]"
   ]
  },
  {
   "cell_type": "code",
   "execution_count": 94,
   "metadata": {},
   "outputs": [],
   "source": [
    "# Spiltting \n",
    "test_idx = df_normalized.loc[df.month == \"2018-12\"].index\n",
    "x_train = x.loc[~x.index.isin(test_idx)]\n",
    "x_test = x.loc[x.index.isin(test_idx)]\n",
    "y_train = y.loc[~y.index.isin(test_idx)]\n",
    "y_test = y.loc[y.index.isin(test_idx)]\n"
   ]
  },
  {
   "cell_type": "code",
   "execution_count": 95,
   "metadata": {},
   "outputs": [
    {
     "data": {
      "text/html": [
       "<table class=\"simpletable\">\n",
       "<caption>OLS Regression Results</caption>\n",
       "<tr>\n",
       "  <th>Dep. Variable:</th>      <td>resale_price</td>   <th>  R-squared:         </th>  <td>   0.437</td> \n",
       "</tr>\n",
       "<tr>\n",
       "  <th>Model:</th>                   <td>OLS</td>       <th>  Adj. R-squared:    </th>  <td>   0.437</td> \n",
       "</tr>\n",
       "<tr>\n",
       "  <th>Method:</th>             <td>Least Squares</td>  <th>  F-statistic:       </th>  <td>1.899e+04</td>\n",
       "</tr>\n",
       "<tr>\n",
       "  <th>Date:</th>             <td>Sun, 03 Mar 2019</td> <th>  Prob (F-statistic):</th>   <td>  0.00</td>  \n",
       "</tr>\n",
       "<tr>\n",
       "  <th>Time:</th>                 <td>12:48:17</td>     <th>  Log-Likelihood:    </th> <td>4.7983e+05</td>\n",
       "</tr>\n",
       "<tr>\n",
       "  <th>No. Observations:</th>      <td>489456</td>      <th>  AIC:               </th> <td>-9.596e+05</td>\n",
       "</tr>\n",
       "<tr>\n",
       "  <th>Df Residuals:</th>          <td>489435</td>      <th>  BIC:               </th> <td>-9.594e+05</td>\n",
       "</tr>\n",
       "<tr>\n",
       "  <th>Df Model:</th>              <td>    20</td>      <th>                     </th>      <td> </td>    \n",
       "</tr>\n",
       "<tr>\n",
       "  <th>Covariance Type:</th>      <td>nonrobust</td>    <th>                     </th>      <td> </td>    \n",
       "</tr>\n",
       "</table>\n",
       "<table class=\"simpletable\">\n",
       "<tr>\n",
       "              <td></td>                 <th>coef</th>     <th>std err</th>      <th>t</th>      <th>P>|t|</th>  <th>[0.025</th>    <th>0.975]</th>  \n",
       "</tr>\n",
       "<tr>\n",
       "  <th>floor_area_sqm</th>            <td>    0.8850</td> <td>    0.002</td> <td>  578.765</td> <td> 0.000</td> <td>    0.882</td> <td>    0.888</td>\n",
       "</tr>\n",
       "<tr>\n",
       "  <th>Distance_mrt(km)</th>          <td>    0.0305</td> <td>    0.001</td> <td>   30.206</td> <td> 0.000</td> <td>    0.029</td> <td>    0.032</td>\n",
       "</tr>\n",
       "<tr>\n",
       "  <th>Distance_sch(km)</th>          <td>   -0.0344</td> <td>    0.001</td> <td>  -32.007</td> <td> 0.000</td> <td>   -0.037</td> <td>   -0.032</td>\n",
       "</tr>\n",
       "<tr>\n",
       "  <th>Distance_mall(km)</th>         <td>    0.0639</td> <td>    0.001</td> <td>   48.397</td> <td> 0.000</td> <td>    0.061</td> <td>    0.066</td>\n",
       "</tr>\n",
       "<tr>\n",
       "  <th>Distance_cbd(km)</th>          <td>   -0.1256</td> <td>    0.002</td> <td>  -82.487</td> <td> 0.000</td> <td>   -0.129</td> <td>   -0.123</td>\n",
       "</tr>\n",
       "<tr>\n",
       "  <th>Distance_uni(km)</th>          <td>    0.0052</td> <td>    0.001</td> <td>    4.826</td> <td> 0.000</td> <td>    0.003</td> <td>    0.007</td>\n",
       "</tr>\n",
       "<tr>\n",
       "  <th>income_below_sgd_1000</th>     <td>    0.5279</td> <td>    0.004</td> <td>  122.354</td> <td> 0.000</td> <td>    0.519</td> <td>    0.536</td>\n",
       "</tr>\n",
       "<tr>\n",
       "  <th>income_no_working_person</th>  <td>    1.6077</td> <td>    0.015</td> <td>  106.713</td> <td> 0.000</td> <td>    1.578</td> <td>    1.637</td>\n",
       "</tr>\n",
       "<tr>\n",
       "  <th>income_sgd_10000_to_10999</th> <td>    0.9149</td> <td>    0.015</td> <td>   59.117</td> <td> 0.000</td> <td>    0.885</td> <td>    0.945</td>\n",
       "</tr>\n",
       "<tr>\n",
       "  <th>income_sgd_1000_to_1999</th>   <td>   -1.5498</td> <td>    0.014</td> <td> -109.018</td> <td> 0.000</td> <td>   -1.578</td> <td>   -1.522</td>\n",
       "</tr>\n",
       "<tr>\n",
       "  <th>income_sgd_11000_to_11999</th> <td>    0.0116</td> <td>    0.007</td> <td>    1.720</td> <td> 0.085</td> <td>   -0.002</td> <td>    0.025</td>\n",
       "</tr>\n",
       "<tr>\n",
       "  <th>income_sgd_12000_to_12999</th> <td>   -1.5894</td> <td>    0.018</td> <td>  -89.791</td> <td> 0.000</td> <td>   -1.624</td> <td>   -1.555</td>\n",
       "</tr>\n",
       "<tr>\n",
       "  <th>income_sgd_13000_to_13999</th> <td>    1.9842</td> <td>    0.022</td> <td>   92.109</td> <td> 0.000</td> <td>    1.942</td> <td>    2.026</td>\n",
       "</tr>\n",
       "<tr>\n",
       "  <th>income_sgd_14000_to_14999</th> <td>   -0.6559</td> <td>    0.012</td> <td>  -56.916</td> <td> 0.000</td> <td>   -0.679</td> <td>   -0.633</td>\n",
       "</tr>\n",
       "<tr>\n",
       "  <th>income_sgd_15000_to_17499</th> <td>   -1.3407</td> <td>    0.018</td> <td>  -76.147</td> <td> 0.000</td> <td>   -1.375</td> <td>   -1.306</td>\n",
       "</tr>\n",
       "<tr>\n",
       "  <th>income_sgd_17500_to_19999</th> <td>   -0.0658</td> <td>    0.005</td> <td>  -13.844</td> <td> 0.000</td> <td>   -0.075</td> <td>   -0.056</td>\n",
       "</tr>\n",
       "<tr>\n",
       "  <th>income_sgd_20000_over</th>     <td>    0.0790</td> <td>    0.008</td> <td>    9.295</td> <td> 0.000</td> <td>    0.062</td> <td>    0.096</td>\n",
       "</tr>\n",
       "<tr>\n",
       "  <th>income_sgd_2000_to_2999</th>   <td>   -1.3516</td> <td>    0.017</td> <td>  -77.914</td> <td> 0.000</td> <td>   -1.386</td> <td>   -1.318</td>\n",
       "</tr>\n",
       "<tr>\n",
       "  <th>income_sgd_3000_to_3999</th>   <td>   -0.7587</td> <td>    0.011</td> <td>  -69.357</td> <td> 0.000</td> <td>   -0.780</td> <td>   -0.737</td>\n",
       "</tr>\n",
       "<tr>\n",
       "  <th>income_sgd_4000_to_4999</th>   <td>    0.0715</td> <td>    0.006</td> <td>   12.719</td> <td> 0.000</td> <td>    0.060</td> <td>    0.083</td>\n",
       "</tr>\n",
       "<tr>\n",
       "  <th>income_sgd_5000_to_5999</th>   <td>    1.1939</td> <td>    0.016</td> <td>   75.144</td> <td> 0.000</td> <td>    1.163</td> <td>    1.225</td>\n",
       "</tr>\n",
       "<tr>\n",
       "  <th>income_sgd_6000_to_6999</th>   <td>    0.7129</td> <td>    0.006</td> <td>  110.264</td> <td> 0.000</td> <td>    0.700</td> <td>    0.726</td>\n",
       "</tr>\n",
       "<tr>\n",
       "  <th>income_sgd_7000_to_7999</th>   <td>   -0.3814</td> <td>    0.012</td> <td>  -32.797</td> <td> 0.000</td> <td>   -0.404</td> <td>   -0.359</td>\n",
       "</tr>\n",
       "<tr>\n",
       "  <th>income_sgd_8000_to_8999</th>   <td>    0.1377</td> <td>    0.013</td> <td>   10.291</td> <td> 0.000</td> <td>    0.111</td> <td>    0.164</td>\n",
       "</tr>\n",
       "<tr>\n",
       "  <th>income_sgd_9000_to_9999</th>   <td>    0.7105</td> <td>    0.020</td> <td>   34.739</td> <td> 0.000</td> <td>    0.670</td> <td>    0.751</td>\n",
       "</tr>\n",
       "</table>\n",
       "<table class=\"simpletable\">\n",
       "<tr>\n",
       "  <th>Omnibus:</th>       <td>59001.229</td> <th>  Durbin-Watson:     </th> <td>   0.238</td> \n",
       "</tr>\n",
       "<tr>\n",
       "  <th>Prob(Omnibus):</th>  <td> 0.000</td>   <th>  Jarque-Bera (JB):  </th> <td>90596.745</td>\n",
       "</tr>\n",
       "<tr>\n",
       "  <th>Skew:</th>           <td> 0.877</td>   <th>  Prob(JB):          </th> <td>    0.00</td> \n",
       "</tr>\n",
       "<tr>\n",
       "  <th>Kurtosis:</th>       <td> 4.169</td>   <th>  Cond. No.          </th> <td>1.35e+16</td> \n",
       "</tr>\n",
       "</table><br/><br/>Warnings:<br/>[1] Standard Errors assume that the covariance matrix of the errors is correctly specified.<br/>[2] The smallest eigenvalue is 1.57e-26. This might indicate that there are<br/>strong multicollinearity problems or that the design matrix is singular."
      ],
      "text/plain": [
       "<class 'statsmodels.iolib.summary.Summary'>\n",
       "\"\"\"\n",
       "                            OLS Regression Results                            \n",
       "==============================================================================\n",
       "Dep. Variable:           resale_price   R-squared:                       0.437\n",
       "Model:                            OLS   Adj. R-squared:                  0.437\n",
       "Method:                 Least Squares   F-statistic:                 1.899e+04\n",
       "Date:                Sun, 03 Mar 2019   Prob (F-statistic):               0.00\n",
       "Time:                        12:48:17   Log-Likelihood:             4.7983e+05\n",
       "No. Observations:              489456   AIC:                        -9.596e+05\n",
       "Df Residuals:                  489435   BIC:                        -9.594e+05\n",
       "Df Model:                          20                                         \n",
       "Covariance Type:            nonrobust                                         \n",
       "=============================================================================================\n",
       "                                coef    std err          t      P>|t|      [0.025      0.975]\n",
       "---------------------------------------------------------------------------------------------\n",
       "floor_area_sqm                0.8850      0.002    578.765      0.000       0.882       0.888\n",
       "Distance_mrt(km)              0.0305      0.001     30.206      0.000       0.029       0.032\n",
       "Distance_sch(km)             -0.0344      0.001    -32.007      0.000      -0.037      -0.032\n",
       "Distance_mall(km)             0.0639      0.001     48.397      0.000       0.061       0.066\n",
       "Distance_cbd(km)             -0.1256      0.002    -82.487      0.000      -0.129      -0.123\n",
       "Distance_uni(km)              0.0052      0.001      4.826      0.000       0.003       0.007\n",
       "income_below_sgd_1000         0.5279      0.004    122.354      0.000       0.519       0.536\n",
       "income_no_working_person      1.6077      0.015    106.713      0.000       1.578       1.637\n",
       "income_sgd_10000_to_10999     0.9149      0.015     59.117      0.000       0.885       0.945\n",
       "income_sgd_1000_to_1999      -1.5498      0.014   -109.018      0.000      -1.578      -1.522\n",
       "income_sgd_11000_to_11999     0.0116      0.007      1.720      0.085      -0.002       0.025\n",
       "income_sgd_12000_to_12999    -1.5894      0.018    -89.791      0.000      -1.624      -1.555\n",
       "income_sgd_13000_to_13999     1.9842      0.022     92.109      0.000       1.942       2.026\n",
       "income_sgd_14000_to_14999    -0.6559      0.012    -56.916      0.000      -0.679      -0.633\n",
       "income_sgd_15000_to_17499    -1.3407      0.018    -76.147      0.000      -1.375      -1.306\n",
       "income_sgd_17500_to_19999    -0.0658      0.005    -13.844      0.000      -0.075      -0.056\n",
       "income_sgd_20000_over         0.0790      0.008      9.295      0.000       0.062       0.096\n",
       "income_sgd_2000_to_2999      -1.3516      0.017    -77.914      0.000      -1.386      -1.318\n",
       "income_sgd_3000_to_3999      -0.7587      0.011    -69.357      0.000      -0.780      -0.737\n",
       "income_sgd_4000_to_4999       0.0715      0.006     12.719      0.000       0.060       0.083\n",
       "income_sgd_5000_to_5999       1.1939      0.016     75.144      0.000       1.163       1.225\n",
       "income_sgd_6000_to_6999       0.7129      0.006    110.264      0.000       0.700       0.726\n",
       "income_sgd_7000_to_7999      -0.3814      0.012    -32.797      0.000      -0.404      -0.359\n",
       "income_sgd_8000_to_8999       0.1377      0.013     10.291      0.000       0.111       0.164\n",
       "income_sgd_9000_to_9999       0.7105      0.020     34.739      0.000       0.670       0.751\n",
       "==============================================================================\n",
       "Omnibus:                    59001.229   Durbin-Watson:                   0.238\n",
       "Prob(Omnibus):                  0.000   Jarque-Bera (JB):            90596.745\n",
       "Skew:                           0.877   Prob(JB):                         0.00\n",
       "Kurtosis:                       4.169   Cond. No.                     1.35e+16\n",
       "==============================================================================\n",
       "\n",
       "Warnings:\n",
       "[1] Standard Errors assume that the covariance matrix of the errors is correctly specified.\n",
       "[2] The smallest eigenvalue is 1.57e-26. This might indicate that there are\n",
       "strong multicollinearity problems or that the design matrix is singular.\n",
       "\"\"\""
      ]
     },
     "execution_count": 95,
     "metadata": {},
     "output_type": "execute_result"
    }
   ],
   "source": [
    "# Create the Model\n",
    "model = sm.OLS(y_train,x_train)\n",
    "# Fit the dataset\n",
    "results = model.fit()\n",
    "results.summary()"
   ]
  },
  {
   "cell_type": "code",
   "execution_count": 96,
   "metadata": {},
   "outputs": [
    {
     "data": {
      "text/plain": [
       "0.4369901653008461"
      ]
     },
     "execution_count": 96,
     "metadata": {},
     "output_type": "execute_result"
    }
   ],
   "source": [
    "results.rsquared"
   ]
  },
  {
   "cell_type": "code",
   "execution_count": 100,
   "metadata": {
    "collapsed": true
   },
   "outputs": [
    {
     "name": "stdout",
     "output_type": "stream",
     "text": [
      "447306   -0.119455\n",
      "447307   -0.120486\n",
      "447308   -0.164287\n",
      "447309   -0.128098\n",
      "447310   -0.181768\n",
      "447311   -0.162029\n",
      "447312   -0.123581\n",
      "447313   -0.048065\n",
      "447314   -0.052386\n",
      "447315   -0.064487\n",
      "447316   -0.067771\n",
      "447317   -0.064654\n",
      "447318   -0.071401\n",
      "447319   -0.072265\n",
      "447320   -0.073130\n",
      "447321   -0.072433\n",
      "447322   -0.073297\n",
      "447323   -0.055286\n",
      "447324   -0.076754\n",
      "447325   -0.082637\n",
      "447326   -0.082637\n",
      "447327   -0.087823\n",
      "447328   -0.093776\n",
      "447329   -0.105109\n",
      "447330   -0.110727\n",
      "447331   -0.111159\n",
      "447332   -0.115481\n",
      "447333   -0.116345\n",
      "447334   -0.117209\n",
      "447335   -0.118241\n",
      "            ...   \n",
      "448708   -0.120242\n",
      "448709   -0.108638\n",
      "448710   -0.108811\n",
      "448711   -0.113997\n",
      "448712   -0.112436\n",
      "448713   -0.137528\n",
      "448714   -0.159861\n",
      "448715   -0.127826\n",
      "448716   -0.128690\n",
      "448717   -0.138197\n",
      "448718   -0.141655\n",
      "448719   -0.141655\n",
      "448720   -0.167249\n",
      "448721   -0.138504\n",
      "448722   -0.079090\n",
      "448723   -0.155191\n",
      "448724   -0.071981\n",
      "448725   -0.092055\n",
      "448726   -0.096376\n",
      "448727   -0.183643\n",
      "448728   -0.220836\n",
      "448729   -0.172797\n",
      "448730   -0.178848\n",
      "448731   -0.191115\n",
      "448732   -0.198727\n",
      "448733   -0.215316\n",
      "448734   -0.263940\n",
      "448735   -0.263940\n",
      "448736   -0.172156\n",
      "448737   -0.106859\n",
      "Length: 1432, dtype: float64\n"
     ]
    }
   ],
   "source": [
    "\n",
    "k = results.predict(x_test)\n",
    "print(k-y_test)\n"
   ]
  },
  {
   "cell_type": "code",
   "execution_count": null,
   "metadata": {},
   "outputs": [],
   "source": []
  },
  {
   "cell_type": "code",
   "execution_count": 165,
   "metadata": {},
   "outputs": [
    {
     "data": {
      "text/plain": [
       "MLPRegressor(activation='relu', alpha=1e-05, batch_size='auto', beta_1=0.9,\n",
       "       beta_2=0.999, early_stopping=False, epsilon=1e-08,\n",
       "       hidden_layer_sizes=(15,), learning_rate='constant',\n",
       "       learning_rate_init=0.001, max_iter=200, momentum=0.9,\n",
       "       nesterovs_momentum=True, power_t=0.5, random_state=1, shuffle=True,\n",
       "       solver='lbfgs', tol=0.0001, validation_fraction=0.1, verbose=False,\n",
       "       warm_start=False)"
      ]
     },
     "execution_count": 165,
     "metadata": {},
     "output_type": "execute_result"
    }
   ],
   "source": [
    "from sklearn.neural_network import MLPRegressor\n",
    "clf = MLPRegressor(solver='lbfgs', alpha=1e-5,\n",
    "                    hidden_layer_sizes=(15,), random_state=1)\n",
    "clf.fit(x_train1, y_train1)"
   ]
  },
  {
   "cell_type": "code",
   "execution_count": 166,
   "metadata": {},
   "outputs": [
    {
     "data": {
      "text/plain": [
       "143027.72808757296"
      ]
     },
     "execution_count": 166,
     "metadata": {},
     "output_type": "execute_result"
    }
   ],
   "source": [
    "from sklearn.metrics import mean_squared_error\n",
    "ypred = clf.predict(x_test1)\n",
    "y_test = np.array(y_test1)\n",
    "ypred =pd.Series(ypred)\n",
    "np.sqrt(mean_squared_error(y_test,ypred))"
   ]
  },
  {
   "cell_type": "code",
   "execution_count": 201,
   "metadata": {},
   "outputs": [
    {
     "data": {
      "text/plain": [
       "'2000'"
      ]
     },
     "execution_count": 201,
     "metadata": {},
     "output_type": "execute_result"
    }
   ],
   "source": [
    "df.iat[1,5].split('-')[0]"
   ]
  },
  {
   "cell_type": "code",
   "execution_count": 212,
   "metadata": {},
   "outputs": [],
   "source": [
    "'''for i in len(df):\n",
    "    df['year'] = df.iat[i,5].split('-')[0]'''\n",
    "df['year'] = df['month'].apply(str.split,'-')"
   ]
  },
  {
   "cell_type": "code",
   "execution_count": 234,
   "metadata": {},
   "outputs": [],
   "source": [
    "df['year']  = df.month.str.split('-', expand=True)"
   ]
  },
  {
   "cell_type": "code",
   "execution_count": 235,
   "metadata": {},
   "outputs": [
    {
     "data": {
      "text/plain": [
       "0         2000\n",
       "1         2000\n",
       "2         2000\n",
       "3         2000\n",
       "4         2000\n",
       "5         2000\n",
       "6         2000\n",
       "7         2000\n",
       "8         2000\n",
       "9         2000\n",
       "10        2000\n",
       "11        2000\n",
       "12        2000\n",
       "13        2000\n",
       "14        2000\n",
       "15        2000\n",
       "16        2000\n",
       "17        2000\n",
       "18        2000\n",
       "19        2000\n",
       "20        2000\n",
       "21        2000\n",
       "22        2000\n",
       "23        2000\n",
       "24        2000\n",
       "25        2000\n",
       "26        2000\n",
       "27        2000\n",
       "28        2000\n",
       "29        2000\n",
       "          ... \n",
       "500911    2014\n",
       "500912    2014\n",
       "500913    2014\n",
       "500914    2014\n",
       "500915    2014\n",
       "500916    2014\n",
       "500917    2014\n",
       "500918    2014\n",
       "500919    2014\n",
       "500920    2014\n",
       "500921    2014\n",
       "500922    2014\n",
       "500923    2014\n",
       "500924    2014\n",
       "500925    2014\n",
       "500926    2014\n",
       "500927    2014\n",
       "500928    2014\n",
       "500929    2014\n",
       "500930    2014\n",
       "500931    2014\n",
       "500932    2014\n",
       "500933    2014\n",
       "500934    2014\n",
       "500935    2014\n",
       "500936    2014\n",
       "500937    2014\n",
       "500938    2014\n",
       "500939    2014\n",
       "500940    2014\n",
       "Name: year, Length: 500941, dtype: object"
      ]
     },
     "execution_count": 235,
     "metadata": {},
     "output_type": "execute_result"
    }
   ],
   "source": [
    "df.year"
   ]
  },
  {
   "cell_type": "code",
   "execution_count": 213,
   "metadata": {},
   "outputs": [
    {
     "data": {
      "text/plain": [
       "0    [2000-01]\n",
       "1    [2000-01]\n",
       "2    [2000-01]\n",
       "3    [2000-01]\n",
       "4    [2000-01]\n",
       "Name: year, dtype: object"
      ]
     },
     "execution_count": 213,
     "metadata": {},
     "output_type": "execute_result"
    }
   ],
   "source": [
    "df.year.head()"
   ]
  },
  {
   "cell_type": "code",
   "execution_count": 270,
   "metadata": {
    "scrolled": true
   },
   "outputs": [],
   "source": [
    "df4 = df.groupby(['town', 'flat_type', 'year']).mean().reset_index()"
   ]
  },
  {
   "cell_type": "code",
   "execution_count": 271,
   "metadata": {},
   "outputs": [],
   "source": [
    "df4 = df4.join(pd.get_dummies(df4.town)).join(pd.get_dummies(df4.flat_type))"
   ]
  },
  {
   "cell_type": "code",
   "execution_count": 272,
   "metadata": {},
   "outputs": [],
   "source": [
    "df4 = df4.drop(columns=['town', 'flat_type','lat','lon','Nearest cbd', 'remaining_lease']).dropna()"
   ]
  },
  {
   "cell_type": "code",
   "execution_count": 283,
   "metadata": {},
   "outputs": [],
   "source": [
    "X = df4.drop(columns=['resale_price'])\n",
    "Y = df4.resale_price\n",
    "test_idx = df4.loc[df4.year == \"2018\",:].index\n",
    "x_train2 = X.loc[~X.index.isin(test_idx)]\n",
    "x_test2 = X.loc[X.index.isin(test_idx)]\n",
    "y_train2 = Y.loc[~Y.index.isin(test_idx)]\n",
    "y_test2 = Y.loc[Y.index.isin(test_idx)]"
   ]
  },
  {
   "cell_type": "code",
   "execution_count": 284,
   "metadata": {},
   "outputs": [
    {
     "data": {
      "text/plain": [
       "MLPRegressor(activation='relu', alpha=1e-05, batch_size='auto', beta_1=0.9,\n",
       "       beta_2=0.999, early_stopping=False, epsilon=1e-08,\n",
       "       hidden_layer_sizes=(15,), learning_rate='constant',\n",
       "       learning_rate_init=0.001, max_iter=200, momentum=0.9,\n",
       "       nesterovs_momentum=True, power_t=0.5, random_state=1, shuffle=True,\n",
       "       solver='lbfgs', tol=0.0001, validation_fraction=0.1, verbose=False,\n",
       "       warm_start=False)"
      ]
     },
     "execution_count": 284,
     "metadata": {},
     "output_type": "execute_result"
    }
   ],
   "source": [
    "from sklearn.neural_network import MLPRegressor\n",
    "clf = MLPRegressor(solver='lbfgs', alpha=1e-5,\n",
    "                    hidden_layer_sizes=(15,), random_state=1)\n",
    "clf.fit(x_train2, y_train2)"
   ]
  },
  {
   "cell_type": "code",
   "execution_count": 287,
   "metadata": {},
   "outputs": [
    {
     "data": {
      "text/plain": [
       "27618026013.273766"
      ]
     },
     "execution_count": 287,
     "metadata": {},
     "output_type": "execute_result"
    }
   ],
   "source": [
    "ypred = clf.predict(x_test2)\n",
    "y_test = np.array(y_test2)\n",
    "ypred =pd.Series(ypred)\n",
    "mean_squared_error(y_test,ypred)"
   ]
  },
  {
   "cell_type": "code",
   "execution_count": 346,
   "metadata": {},
   "outputs": [
    {
     "data": {
      "image/png": "[encoded data removed]",
      "text/plain": [
       "<Figure size 432x288 with 1 Axes>"
      ]
     },
     "metadata": {},
     "output_type": "display_data"
    }
   ],
   "source": [
    "df5 = df4.groupby(['year']).mean().reset_index()\n",
    "#df5.resale_price.plot(kind='line', figsize=(10,6))\n",
    "\n",
    "plt.plot(df5.resale_price)\n",
    "\n",
    "y2 = list(df5.resale_price)\n",
    "y2[-1] = ypred.mean()\n",
    "plt.plot(y2)\n",
    "\n",
    "plt.show()\n"
   ]
  },
  {
   "cell_type": "code",
   "execution_count": 344,
   "metadata": {},
   "outputs": [
    {
     "data": {
      "text/plain": [
       "[]"
      ]
     },
     "execution_count": 344,
     "metadata": {},
     "output_type": "execute_result"
    },
    {
     "data": {
      "image/png": "[encoded data removed]",
      "text/plain": [
       "<Figure size 432x288 with 1 Axes>"
      ]
     },
     "metadata": {},
     "output_type": "display_data"
    }
   ],
   "source": [
    "plt.plot(kind='')"
   ]
  },
  {
   "cell_type": "code",
   "execution_count": 317,
   "metadata": {},
   "outputs": [],
   "source": [
    "sltd_idx = df4.query('WOODLANDS == 1').index\n",
    "\n",
    "# .assign(year = lambda x: x.year.astype(int)).groupby('year').mean().resale_price.plot()"
   ]
  },
  {
   "cell_type": "code",
   "execution_count": 319,
   "metadata": {},
   "outputs": [
    {
     "ename": "KeyError",
     "evalue": "'None of [[1990, 1991, 1992, 1993, 1994, 1995, 1996, 1997, 1998, 1999, 2000, 2001, 2002, 2003, 2004, 2005, 2006, 2007, 2008, 2009, 2010, 2011, 2012, 2013, 2014, 2015, 2016, 2017, 2018, 2019, 2020, 2021, 2022, 2023, 2024, 2025, 2026, 2027, 2028, 2029, 2030, 2031, 2032, 2033, 2034, 2035, 2036, 2037, 2038, 2039, 2040, 2041, 2042, 2043, 2044, 2045, 2046, 2047, 2048, 2049, 2050, 2051, 2052, 2053, 2054, 2055, 2056, 2057, 2058, 2059, 2060, 2061, 2062, 2063, 2064, 2065, 2066, 2067, 2068, 2069, 2070, 2071, 2072, 2073, 2074, 2075, 2076, 2077, 2078, 2079, 2080]] are in the [index]'",
     "output_type": "error",
     "traceback": [
      "\u001b[1;31m---------------------------------------------------------------------------\u001b[0m",
      "\u001b[1;31mKeyError\u001b[0m                                  Traceback (most recent call last)",
      "\u001b[1;32m<ipython-input-319-210edfa0b5dd>\u001b[0m in \u001b[0;36m<module>\u001b[1;34m()\u001b[0m\n\u001b[1;32m----> 1\u001b[1;33m \u001b[0mypred\u001b[0m\u001b[1;33m[\u001b[0m\u001b[0mstd_idx\u001b[0m\u001b[1;33m.\u001b[0m\u001b[0mtolist\u001b[0m\u001b[1;33m(\u001b[0m\u001b[1;33m)\u001b[0m\u001b[1;33m]\u001b[0m\u001b[1;33m\u001b[0m\u001b[0m\n\u001b[0m",
      "\u001b[1;32m~\\Anaconda3\\lib\\site-packages\\pandas\\core\\series.py\u001b[0m in \u001b[0;36m__getitem__\u001b[1;34m(self, key)\u001b[0m\n\u001b[0;32m    807\u001b[0m             \u001b[0mkey\u001b[0m \u001b[1;33m=\u001b[0m \u001b[0mcheck_bool_indexer\u001b[0m\u001b[1;33m(\u001b[0m\u001b[0mself\u001b[0m\u001b[1;33m.\u001b[0m\u001b[0mindex\u001b[0m\u001b[1;33m,\u001b[0m \u001b[0mkey\u001b[0m\u001b[1;33m)\u001b[0m\u001b[1;33m\u001b[0m\u001b[0m\n\u001b[0;32m    808\u001b[0m \u001b[1;33m\u001b[0m\u001b[0m\n\u001b[1;32m--> 809\u001b[1;33m         \u001b[1;32mreturn\u001b[0m \u001b[0mself\u001b[0m\u001b[1;33m.\u001b[0m\u001b[0m_get_with\u001b[0m\u001b[1;33m(\u001b[0m\u001b[0mkey\u001b[0m\u001b[1;33m)\u001b[0m\u001b[1;33m\u001b[0m\u001b[0m\n\u001b[0m\u001b[0;32m    810\u001b[0m \u001b[1;33m\u001b[0m\u001b[0m\n\u001b[0;32m    811\u001b[0m     \u001b[1;32mdef\u001b[0m \u001b[0m_get_with\u001b[0m\u001b[1;33m(\u001b[0m\u001b[0mself\u001b[0m\u001b[1;33m,\u001b[0m \u001b[0mkey\u001b[0m\u001b[1;33m)\u001b[0m\u001b[1;33m:\u001b[0m\u001b[1;33m\u001b[0m\u001b[0m\n",
      "\u001b[1;32m~\\Anaconda3\\lib\\site-packages\\pandas\\core\\series.py\u001b[0m in \u001b[0;36m_get_with\u001b[1;34m(self, key)\u001b[0m\n\u001b[0;32m    839\u001b[0m             \u001b[1;32mif\u001b[0m \u001b[0mkey_type\u001b[0m \u001b[1;33m==\u001b[0m \u001b[1;34m'integer'\u001b[0m\u001b[1;33m:\u001b[0m\u001b[1;33m\u001b[0m\u001b[0m\n\u001b[0;32m    840\u001b[0m                 \u001b[1;32mif\u001b[0m \u001b[0mself\u001b[0m\u001b[1;33m.\u001b[0m\u001b[0mindex\u001b[0m\u001b[1;33m.\u001b[0m\u001b[0mis_integer\u001b[0m\u001b[1;33m(\u001b[0m\u001b[1;33m)\u001b[0m \u001b[1;32mor\u001b[0m \u001b[0mself\u001b[0m\u001b[1;33m.\u001b[0m\u001b[0mindex\u001b[0m\u001b[1;33m.\u001b[0m\u001b[0mis_floating\u001b[0m\u001b[1;33m(\u001b[0m\u001b[1;33m)\u001b[0m\u001b[1;33m:\u001b[0m\u001b[1;33m\u001b[0m\u001b[0m\n\u001b[1;32m--> 841\u001b[1;33m                     \u001b[1;32mreturn\u001b[0m \u001b[0mself\u001b[0m\u001b[1;33m.\u001b[0m\u001b[0mloc\u001b[0m\u001b[1;33m[\u001b[0m\u001b[0mkey\u001b[0m\u001b[1;33m]\u001b[0m\u001b[1;33m\u001b[0m\u001b[0m\n\u001b[0m\u001b[0;32m    842\u001b[0m                 \u001b[1;32melse\u001b[0m\u001b[1;33m:\u001b[0m\u001b[1;33m\u001b[0m\u001b[0m\n\u001b[0;32m    843\u001b[0m                     \u001b[1;32mreturn\u001b[0m \u001b[0mself\u001b[0m\u001b[1;33m.\u001b[0m\u001b[0m_get_values\u001b[0m\u001b[1;33m(\u001b[0m\u001b[0mkey\u001b[0m\u001b[1;33m)\u001b[0m\u001b[1;33m\u001b[0m\u001b[0m\n",
      "\u001b[1;32m~\\Anaconda3\\lib\\site-packages\\pandas\\core\\indexing.py\u001b[0m in \u001b[0;36m__getitem__\u001b[1;34m(self, key)\u001b[0m\n\u001b[0;32m   1476\u001b[0m \u001b[1;33m\u001b[0m\u001b[0m\n\u001b[0;32m   1477\u001b[0m             \u001b[0mmaybe_callable\u001b[0m \u001b[1;33m=\u001b[0m \u001b[0mcom\u001b[0m\u001b[1;33m.\u001b[0m\u001b[0m_apply_if_callable\u001b[0m\u001b[1;33m(\u001b[0m\u001b[0mkey\u001b[0m\u001b[1;33m,\u001b[0m \u001b[0mself\u001b[0m\u001b[1;33m.\u001b[0m\u001b[0mobj\u001b[0m\u001b[1;33m)\u001b[0m\u001b[1;33m\u001b[0m\u001b[0m\n\u001b[1;32m-> 1478\u001b[1;33m             \u001b[1;32mreturn\u001b[0m \u001b[0mself\u001b[0m\u001b[1;33m.\u001b[0m\u001b[0m_getitem_axis\u001b[0m\u001b[1;33m(\u001b[0m\u001b[0mmaybe_callable\u001b[0m\u001b[1;33m,\u001b[0m \u001b[0maxis\u001b[0m\u001b[1;33m=\u001b[0m\u001b[0maxis\u001b[0m\u001b[1;33m)\u001b[0m\u001b[1;33m\u001b[0m\u001b[0m\n\u001b[0m\u001b[0;32m   1479\u001b[0m \u001b[1;33m\u001b[0m\u001b[0m\n\u001b[0;32m   1480\u001b[0m     \u001b[1;32mdef\u001b[0m \u001b[0m_is_scalar_access\u001b[0m\u001b[1;33m(\u001b[0m\u001b[0mself\u001b[0m\u001b[1;33m,\u001b[0m \u001b[0mkey\u001b[0m\u001b[1;33m)\u001b[0m\u001b[1;33m:\u001b[0m\u001b[1;33m\u001b[0m\u001b[0m\n",
      "\u001b[1;32m~\\Anaconda3\\lib\\site-packages\\pandas\\core\\indexing.py\u001b[0m in \u001b[0;36m_getitem_axis\u001b[1;34m(self, key, axis)\u001b[0m\n\u001b[0;32m   1899\u001b[0m                     \u001b[1;32mraise\u001b[0m \u001b[0mValueError\u001b[0m\u001b[1;33m(\u001b[0m\u001b[1;34m'Cannot index with multidimensional key'\u001b[0m\u001b[1;33m)\u001b[0m\u001b[1;33m\u001b[0m\u001b[0m\n\u001b[0;32m   1900\u001b[0m \u001b[1;33m\u001b[0m\u001b[0m\n\u001b[1;32m-> 1901\u001b[1;33m                 \u001b[1;32mreturn\u001b[0m \u001b[0mself\u001b[0m\u001b[1;33m.\u001b[0m\u001b[0m_getitem_iterable\u001b[0m\u001b[1;33m(\u001b[0m\u001b[0mkey\u001b[0m\u001b[1;33m,\u001b[0m \u001b[0maxis\u001b[0m\u001b[1;33m=\u001b[0m\u001b[0maxis\u001b[0m\u001b[1;33m)\u001b[0m\u001b[1;33m\u001b[0m\u001b[0m\n\u001b[0m\u001b[0;32m   1902\u001b[0m \u001b[1;33m\u001b[0m\u001b[0m\n\u001b[0;32m   1903\u001b[0m             \u001b[1;31m# nested tuple slicing\u001b[0m\u001b[1;33m\u001b[0m\u001b[1;33m\u001b[0m\u001b[0m\n",
      "\u001b[1;32m~\\Anaconda3\\lib\\site-packages\\pandas\\core\\indexing.py\u001b[0m in \u001b[0;36m_getitem_iterable\u001b[1;34m(self, key, axis)\u001b[0m\n\u001b[0;32m   1141\u001b[0m             \u001b[1;32mif\u001b[0m \u001b[0mlabels\u001b[0m\u001b[1;33m.\u001b[0m\u001b[0mis_unique\u001b[0m \u001b[1;32mand\u001b[0m \u001b[0mIndex\u001b[0m\u001b[1;33m(\u001b[0m\u001b[0mkeyarr\u001b[0m\u001b[1;33m)\u001b[0m\u001b[1;33m.\u001b[0m\u001b[0mis_unique\u001b[0m\u001b[1;33m:\u001b[0m\u001b[1;33m\u001b[0m\u001b[0m\n\u001b[0;32m   1142\u001b[0m                 \u001b[0mindexer\u001b[0m \u001b[1;33m=\u001b[0m \u001b[0max\u001b[0m\u001b[1;33m.\u001b[0m\u001b[0mget_indexer_for\u001b[0m\u001b[1;33m(\u001b[0m\u001b[0mkey\u001b[0m\u001b[1;33m)\u001b[0m\u001b[1;33m\u001b[0m\u001b[0m\n\u001b[1;32m-> 1143\u001b[1;33m                 \u001b[0mself\u001b[0m\u001b[1;33m.\u001b[0m\u001b[0m_validate_read_indexer\u001b[0m\u001b[1;33m(\u001b[0m\u001b[0mkey\u001b[0m\u001b[1;33m,\u001b[0m \u001b[0mindexer\u001b[0m\u001b[1;33m,\u001b[0m \u001b[0maxis\u001b[0m\u001b[1;33m)\u001b[0m\u001b[1;33m\u001b[0m\u001b[0m\n\u001b[0m\u001b[0;32m   1144\u001b[0m \u001b[1;33m\u001b[0m\u001b[0m\n\u001b[0;32m   1145\u001b[0m                 \u001b[0md\u001b[0m \u001b[1;33m=\u001b[0m \u001b[1;33m{\u001b[0m\u001b[0maxis\u001b[0m\u001b[1;33m:\u001b[0m \u001b[1;33m[\u001b[0m\u001b[0max\u001b[0m\u001b[1;33m.\u001b[0m\u001b[0mreindex\u001b[0m\u001b[1;33m(\u001b[0m\u001b[0mkeyarr\u001b[0m\u001b[1;33m)\u001b[0m\u001b[1;33m[\u001b[0m\u001b[1;36m0\u001b[0m\u001b[1;33m]\u001b[0m\u001b[1;33m,\u001b[0m \u001b[0mindexer\u001b[0m\u001b[1;33m]\u001b[0m\u001b[1;33m}\u001b[0m\u001b[1;33m\u001b[0m\u001b[0m\n",
      "\u001b[1;32m~\\Anaconda3\\lib\\site-packages\\pandas\\core\\indexing.py\u001b[0m in \u001b[0;36m_validate_read_indexer\u001b[1;34m(self, key, indexer, axis)\u001b[0m\n\u001b[0;32m   1204\u001b[0m                 raise KeyError(\n\u001b[0;32m   1205\u001b[0m                     u\"None of [{key}] are in the [{axis}]\".format(\n\u001b[1;32m-> 1206\u001b[1;33m                         key=key, axis=self.obj._get_axis_name(axis)))\n\u001b[0m\u001b[0;32m   1207\u001b[0m \u001b[1;33m\u001b[0m\u001b[0m\n\u001b[0;32m   1208\u001b[0m             \u001b[1;31m# we skip the warning on Categorical/Interval\u001b[0m\u001b[1;33m\u001b[0m\u001b[1;33m\u001b[0m\u001b[0m\n",
      "\u001b[1;31mKeyError\u001b[0m: 'None of [[1990, 1991, 1992, 1993, 1994, 1995, 1996, 1997, 1998, 1999, 2000, 2001, 2002, 2003, 2004, 2005, 2006, 2007, 2008, 2009, 2010, 2011, 2012, 2013, 2014, 2015, 2016, 2017, 2018, 2019, 2020, 2021, 2022, 2023, 2024, 2025, 2026, 2027, 2028, 2029, 2030, 2031, 2032, 2033, 2034, 2035, 2036, 2037, 2038, 2039, 2040, 2041, 2042, 2043, 2044, 2045, 2046, 2047, 2048, 2049, 2050, 2051, 2052, 2053, 2054, 2055, 2056, 2057, 2058, 2059, 2060, 2061, 2062, 2063, 2064, 2065, 2066, 2067, 2068, 2069, 2070, 2071, 2072, 2073, 2074, 2075, 2076, 2077, 2078, 2079, 2080]] are in the [index]'"
     ]
    }
   ],
   "source": [
    "ypred[sltd_idx.tolist()]"
   ]
  },
  {
   "cell_type": "code",
   "execution_count": null,
   "metadata": {},
   "outputs": [],
   "source": []
  }
 ],
 "metadata": {
  "kernelspec": {
   "display_name": "Python 3",
   "language": "python",
   "name": "python3"
  },
  "language_info": {
   "codemirror_mode": {
    "name": "ipython",
    "version": 3
   },
   "file_extension": ".py",
   "mimetype": "text/x-python",
   "name": "python",
   "nbconvert_exporter": "python",
   "pygments_lexer": "ipython3",
   "version": "3.6.5"
  }
 },
 "nbformat": 4,
 "nbformat_minor": 2
}
